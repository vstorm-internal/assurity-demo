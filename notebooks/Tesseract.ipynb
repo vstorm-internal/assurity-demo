{
  "nbformat": 4,
  "nbformat_minor": 0,
  "metadata": {
    "colab": {
      "name": "OCRusingTesseract.ipynb",
      "provenance": [],
      "gpuType": "T4"
    },
    "kernelspec": {
      "name": "python2",
      "display_name": "Python 2"
    },
    "accelerator": "GPU"
  },
  "cells": [
    {
      "metadata": {
        "id": "uWwpI-24_Nob",
        "colab": {
          "base_uri": "https://localhost:8080/"
        },
        "outputId": "5111c0ca-c58d-4132-ec45-d2f53d58f6da"
      },
      "cell_type": "code",
      "source": [
        "!sudo apt install tesseract-ocr"
      ],
      "execution_count": 7,
      "outputs": [
        {
          "output_type": "stream",
          "name": "stdout",
          "text": [
            "Reading package lists... Done\n",
            "Building dependency tree... Done\n",
            "Reading state information... Done\n",
            "The following additional packages will be installed:\n",
            "  tesseract-ocr-eng tesseract-ocr-osd\n",
            "The following NEW packages will be installed:\n",
            "  tesseract-ocr tesseract-ocr-eng tesseract-ocr-osd\n",
            "0 upgraded, 3 newly installed, 0 to remove and 30 not upgraded.\n",
            "Need to get 4,816 kB of archives.\n",
            "After this operation, 15.6 MB of additional disk space will be used.\n",
            "Get:1 http://archive.ubuntu.com/ubuntu jammy/universe amd64 tesseract-ocr-eng all 1:4.00~git30-7274cfa-1.1 [1,591 kB]\n",
            "Get:2 http://archive.ubuntu.com/ubuntu jammy/universe amd64 tesseract-ocr-osd all 1:4.00~git30-7274cfa-1.1 [2,990 kB]\n",
            "Get:3 http://archive.ubuntu.com/ubuntu jammy/universe amd64 tesseract-ocr amd64 4.1.1-2.1build1 [236 kB]\n",
            "Fetched 4,816 kB in 1s (5,488 kB/s)\n",
            "debconf: unable to initialize frontend: Dialog\n",
            "debconf: (No usable dialog-like program is installed, so the dialog based frontend cannot be used. at /usr/share/perl5/Debconf/FrontEnd/Dialog.pm line 78, <> line 3.)\n",
            "debconf: falling back to frontend: Readline\n",
            "debconf: unable to initialize frontend: Readline\n",
            "debconf: (This frontend requires a controlling tty.)\n",
            "debconf: falling back to frontend: Teletype\n",
            "dpkg-preconfigure: unable to re-open stdin: \n",
            "Selecting previously unselected package tesseract-ocr-eng.\n",
            "(Reading database ... 126210 files and directories currently installed.)\n",
            "Preparing to unpack .../tesseract-ocr-eng_1%3a4.00~git30-7274cfa-1.1_all.deb ...\n",
            "Unpacking tesseract-ocr-eng (1:4.00~git30-7274cfa-1.1) ...\n",
            "Selecting previously unselected package tesseract-ocr-osd.\n",
            "Preparing to unpack .../tesseract-ocr-osd_1%3a4.00~git30-7274cfa-1.1_all.deb ...\n",
            "Unpacking tesseract-ocr-osd (1:4.00~git30-7274cfa-1.1) ...\n",
            "Selecting previously unselected package tesseract-ocr.\n",
            "Preparing to unpack .../tesseract-ocr_4.1.1-2.1build1_amd64.deb ...\n",
            "Unpacking tesseract-ocr (4.1.1-2.1build1) ...\n",
            "Setting up tesseract-ocr-eng (1:4.00~git30-7274cfa-1.1) ...\n",
            "Setting up tesseract-ocr-osd (1:4.00~git30-7274cfa-1.1) ...\n",
            "Setting up tesseract-ocr (4.1.1-2.1build1) ...\n",
            "Processing triggers for man-db (2.10.2-1) ...\n"
          ]
        }
      ]
    },
    {
      "metadata": {
        "id": "ujL16dZ2_O-3",
        "colab": {
          "base_uri": "https://localhost:8080/"
        },
        "outputId": "40f1932a-9143-46ce-864e-18592b44565a"
      },
      "cell_type": "code",
      "source": [
        "!pip install pytesseract"
      ],
      "execution_count": 8,
      "outputs": [
        {
          "output_type": "stream",
          "name": "stdout",
          "text": [
            "Collecting pytesseract\n",
            "  Downloading pytesseract-0.3.13-py3-none-any.whl.metadata (11 kB)\n",
            "Requirement already satisfied: packaging>=21.3 in /usr/local/lib/python3.11/dist-packages (from pytesseract) (24.2)\n",
            "Requirement already satisfied: Pillow>=8.0.0 in /usr/local/lib/python3.11/dist-packages (from pytesseract) (11.1.0)\n",
            "Downloading pytesseract-0.3.13-py3-none-any.whl (14 kB)\n",
            "Installing collected packages: pytesseract\n",
            "Successfully installed pytesseract-0.3.13\n"
          ]
        }
      ]
    },
    {
      "metadata": {
        "id": "QKJh7JjTAqzO"
      },
      "cell_type": "code",
      "source": [
        "import pytesseract\n",
        "import shutil\n",
        "import os\n",
        "import random\n",
        "try:\n",
        "    from PIL import Image\n",
        "except ImportError:\n",
        "    import Image"
      ],
      "execution_count": 9,
      "outputs": []
    },
    {
      "cell_type": "code",
      "source": [
        "from pathlib import Path\n",
        "\n",
        "image_dir = Path('./sample_data/jpeg')"
      ],
      "metadata": {
        "id": "TuvK_1Yr_Hmd"
      },
      "execution_count": 10,
      "outputs": []
    },
    {
      "metadata": {
        "id": "8zmc-K_nAyg1"
      },
      "cell_type": "code",
      "source": [
        "def tesseract_ocr(image_path):\n",
        "    extractedInformation = pytesseract.image_to_string(Image.open(image_path))\n",
        "    return extractedInformation"
      ],
      "execution_count": 11,
      "outputs": []
    },
    {
      "metadata": {
        "id": "aw9nJoeqBWZP",
        "colab": {
          "base_uri": "https://localhost:8080/"
        },
        "outputId": "a1484dc4-ee39-46e9-9f09-bd68af9519c9"
      },
      "cell_type": "code",
      "source": [
        "from tqdm import tqdm\n",
        "\n",
        "tesseract_res = {}\n",
        "\n",
        "for image_file in tqdm(image_dir.iterdir()):\n",
        "    if not image_file.is_file():\n",
        "        continue\n",
        "    try:\n",
        "        ocr_result = tesseract_ocr(image_file)\n",
        "    except Exception as e:\n",
        "        ocr_result = str(e)\n",
        "    tesseract_res[str(image_file.stem)] = ocr_result"
      ],
      "execution_count": 12,
      "outputs": [
        {
          "output_type": "stream",
          "name": "stderr",
          "text": [
            "12it [02:13, 11.13s/it]\n"
          ]
        }
      ]
    },
    {
      "cell_type": "code",
      "source": [
        "tesseract_res"
      ],
      "metadata": {
        "id": "q07yOLDa_YHw",
        "outputId": "8c2a97fd-112c-4646-d75b-d5370450d4be",
        "colab": {
          "base_uri": "https://localhost:8080/"
        }
      },
      "execution_count": 13,
      "outputs": [
        {
          "output_type": "execute_result",
          "data": {
            "text/plain": [
              "{'Burris 1500 forms': 'DeouSign Envelope ID: 91F18D4C-F834-4F7C-A97F-D9675E12678A rR Davies Satellite\\nM e rc r 854 Scenic View Court\\nNIXA, MO 65714-7609\\n\\nPATIENT:NUMBER:\\n2000151537811\\n\\n \\n\\n  \\n\\n    \\n \\n\\n    \\n \\n\\nITEMIZED STATEMENT\\nOF ACCOUNT\\n\\nTIENT: NAME:\\nBurris, Coalson Glendon\\n\\n   \\n  \\n\\n  \\n   \\n \\n \\n \\n \\n \\n \\n   \\n   \\n    \\n\\n01/13/2024\\n\\nMPANY: NAME: : FOR QUESTIONS REGARDING THIS\\nSTATEMENT,\\nPLEASE CALL\\n\\n \\n\\n  \\n\\n855 420-7900)\\nAYMENTAND-CREDIT-CARD. INEORMATIO!\\n\\n \\n\\nAmanda C Burris\\n4050 SHULL RD\\nHARTVILLE MO 65667\\n\\nRETURN THE BOTTOM PORTION OF THE LAST\\nPAGE OF THIS STATEMENT WITH YOUR\\nPAYMENT TO ASSURE PROPER CREDIT.\\n\\n   \\n \\n\\n  \\n    \\n  \\n\\nDO NOT ENCLOSE INQUIRIES WITH YOUR PAYMENT\\n\\n \\n\\nProfessional Charges\\n\\n  \\n \\n\\n  \\n\\n  \\n \\n  \\n\\naes\\nRadex Hand Minimum 3 Views\\n\\n \\n\\n \\n\\n \\n\\nProfessional Payments and Adjustments\\n\\n \\n\\n \\n\\n01/31/24 Blue Cross and Blue Shield Payments\\n\\n \\n\\n \\n\\nAccount Balance: $35.00\\n\\nTotal Charges: $35.00\\n\\nIMPORTANT: RETURN THE BOTTOM PORTION OF THIS STATEMENT WITH YOUR PAYMENT TO ASSURE PROPER CREDIT.\\nDO NOT ENCLOSE INQUIRIES WITH YOUR PAYMENT.\\n\\n \\n\\nAMOUNT PAYMENT EXP.\\nAmanda C Burris DUE $35.00 AMOUNT DATE\\n\\n4050 SHULL RD Os Oe | Os\\nHARTVILLE MO 65667 MasterCard American Express Discover\\n\\n  \\n\\n \\n\\n   \\n\\nNOTE: AMOUNTS INDICATED TO BE PAID BY THIRD PARTIES ARE ESTIMATED BY THE HOSPITAL.\\nHOWEVER THE PATIENT AND/OR RESPONSIBLE PARTY HAVE PERSONALLY GUARANTEED\\nPAYMENT AND ARE RESPONSIBLE FOR THE TOTAL CHARGES ON THIS STATEMENT. Page 1\\n\\n2000151537811\\n\\x0c',\n",
              " 'UB04 Hill not great quality': '12-06-19 12:17 FROM-  KAMI-3FL-0 26984361 #2 T-831  PO002/0005 F-127\\n\\n| 4201 WEST 38TH [STREET — SO\\n“AUSTIN 1X3 787051006 | nAliAm = woDen\\n\\nHMA LLC\\nPO BOX 22009\\n\\nTEMPE, AZ 85285\\n\\nBx et\\n\\na8 WON-COVERED CHARAES\\n\\nSee\\n\\nee sates aa\\n\\nna\\n\\nA HILL STEPHANIE Y\\n\\na ee :\\n\\nfitment e aera\\nzh Oy\\n\\n   \\n\\nele ec\\nsre eS\\n\\na\\ni\\nLEGIONELLA, AG-URINE\\n\\nFIRST\\nAGE APPLY 1 THIS SILL AME ARE MADE A FART A ZREQF,\\n\\nUE-54 0M2-1450\\n\\nNUBO EAH icestses7 Beh iPS seSaee eae Te\\n\\n \\n\\x0c',\n",
              " 'UB04 Forconi 2023': 'To: Assuirty claims\\n\\nSEE aietrocd cee Bee ho Re ee THO.\\n\\n€TGNA OSCAR\\nPO BOX 188061\\n\\nCHATTANOOGA, TN\\n\\n855-672-2755\\n\\n> e250)\\n\\n\"Baee\\n\\n0260 [I\\n\\n‘@260 |IV T\\n70260 IV\\n0260 [TV\\n218260\\n\\nPHARMACY\\nPHARMACY\\nTHERAP\\n\\nTHERAPY\\n\\n1» 8300 LABORATOR\\\\\\n\\n\"@301\\n\\n2 Q3e0t:\\n\\n“ap L\\n\\nLABORATORY\\n\\nLABORATORY:\\n\\nLABORATORY\\n\\n“THERAPY =\\n\\nTHERAPY\\nTHERAPY\\n\\nPage: 2 of 4\\n\\n37422-8661\\n\\n4 LABORATORY: = CE\\n\\n” @381\\n\\n| LABORATORY\\nLABORATORY”\\n\\nLABORATORY\\n\\n#10301\\n\\nLABORATORY\\n\\nLABORATORY. = CHEMISTRY\\n\\nCHEMISTRY\\n\\n2023-07-14 16:08:49 GMT\\n\\n14808006603 From: Denise Forconi\\n\\n \\n\\n \\n\\n1032523. >\\n\\n032333\\n\\n“feazaza |\\nfa : @: 3 2 3 2 3 “ et\\n{032423 |\\n\\nVSS CHEMTSTRY Sec BaaseEE olga pada ces\\n\\neae SO23082030400_ sonunaetaianinionnennnunnn Te\\n\\n \\n\\n \\n\\nte 60. INSURED\\'S3 UNIQUE: 1G. a es\\n\\nETS TGT GROUPNAME.\\n\\nives ain INSURANCE GROUP:NO.\\n\\n \\n\\nit J0SC796851490100\\n\\n64: DOCUMENT: CONTROL NUME ER:\\n\\n~B1z00077228\\n\\n \\n\\nB04 CMS-1456\\n\\n \\n\\n \\n\\n \\n\\n \\n\\n \\n\\n \\n\\nSELF EMPLOYED\\n\\x0c',\n",
              " 'itemized billing3': 'Apr/1/2021 10:07:08 AM Abbotsford Elementary School 7777777777\\n\\n \\n\\nMedford Pharmacy\\n210 S. Main Street\\nMedford, WI 54454\\n\\n715-748-4477\\n\\na ao\\n\\naon Wa LE im\\n| la bane Faeereasaneaieia donetay,\\n\\n \\n\\nAll olalmy and retuned goods MUST be accompanied by. thle bit, NMeowk You\\n\\n4/19\\n\\n \\n\\x0c',\n",
              " 'UB04 Matlock': '  \\n  \\n  \\n \\n\\n    \\n\\nTST LUKES HOSPITAL 1° ST LUKES HOSPITAL\\nob 915 EAST 1ST STREET | 14195 BMD\\n\\nDULUTH M2 55805-2107 | COLUMBUS OH 43260-4195 forme reese\\ni 2182495260 | “41-0714079\\n\\n9 PATENT NAVE, g DRSTENT ADOHLSS\\njujMATLOCK, HARY, x by CARLTON\\n\\n{e a fre\\n027319507 | AF Fy r10z27 | } {2373 | 2\\n\\nDt cata Ed agony 22 OCG NC, PW cL sce]\\nfound oar ocr\\n\\n4 Al 110322 | 17 110422 | 18f = 010112 | 29 120222 |\\n35 210222 | 44 110422\\n\\n  \\n  \\n  \\n   \\n  \\n\\n \\n\\n         \\n\\n \\n\\n“Or\\n\\n|* wumana GoLD CHOICE MCR\\n{| BO BOX 14601\\n| LEXINGTON KY 40512-4601\\n\\n \\n\\n   \\n\\n \\n\\n \\n\\n \\n\\n \\n\\n \\n\\n        \\n\\n \\n\\n   \\n\\n6 21-9 FELT TE VEE feawerar — lavereitcs |\\n- ? o700\"\"\" “|~\\ni 0271 | NON-STER SUPPLY | ‘\\nq 0272 | STERILE SUPPLY |\\n+ 0278 | SUPPLY/INPLANTS ;\\n4 0300 | LAB ‘ | |\\n+ 0360 | OR SERVICES {\\n- 0370 | anesrHesta | 362 9593 00 | ‘\\n| aa10 | Resprrarory sve 3 675 00 |\\n3 0420 | PHYSICAL THERP | | 5 495 o9| .\\n0424 PHYS THERP/EVAL ! 4 317 001 { e+\\n# 0430 | OCCUPATIONAL THERE | 3 396 00 | ,\\n» 0434 | OCCUP THERP/EVAL : 1 317 00 I\\n4 0710 | RECOVERY ROOM | 44 1222 00} I:\\n. ‘«\\ni | | : ;\\n, | i | t,\\nI i :\\ni I —— rE i (_ [\\n+» 0001 | PAGE 3” OF 1 GREATION DATE. V 111122 106277 52: 000, kk\\nCEN Na aur — Yer wrasea mann ; “ iM OMS iene |: 18018359707 ~\\n\\n  \\n  \\n\\n   \\n\\n4 HUMANA GOLD CHOICE MCA\\n\\n  \\n     \\n\\n161101\\n\\n \\n\\n \\n\\nfos ue save\\n« MATLOCK, MARY, K\\n\\n.\\n\\nX2658001)\\n\\n      \\n\\n \\n\\nCh TRR ANT am TREANON C308\\n= 16441168S\\n\\n. :\\nf |\\nM50 ¥ e043, 1; T5632 ] a YP NTSs1 ¥, 12720\\n\\na a a\\n\\n[61 d0isarkny costar, nUMBER SE LU SOME\\n\\n|\\n\\n  \\n \\n\\nAbeer psa Fe CHD OIC ATC GE UE PEALASE ADL Ey) HOLL ASD ass Wale Oo .\\n\\x0c',\n",
              " 'GoodUB04': 'geverane HEALTH STAN eRSY\\nPO BOX 2711384\\n\\nEAGAN, MN &S127\\n\\noo Es\\n\\nROOM & BOARO-THREE AND F\\nPHARMACY -GENERAL\\nLABORATORY -GENERAL\\nABORATORY-CHEMITSTRY\\nLABORATORY -BACTERTOLOGY\\n} RAGTOLOGY-OTAGNOSTIC-GEN\\niPHYSTCAL THERAPY-GENERAL\\nPHYSTCAL THERAPY-EVALUAT\\nOCCUPATIONAL THERAPY -GEN\\nOCCUPATIONAL THERAPY-EVA\\n‘SPEECH THERAPY- LANGUAGE\\n‘SPEECH THERAPY -LANGUAGE\\n\\nYRA13\\n(P4322\\n\\n“3 ft\\n\\nGoa\\n\\n“G5 28\\n\\nKaa6d0x\\n\\nz\\n\\nPOPP RPP R RPO:\\n\\nCOOOL LEE\\n\\n&\\n\\nPeceecdeeeeet Om\\n\\n“piit\\n\\nSovntnmsnnnnannsnnsnaanaunnsaynnameanannnnanangannnsentneh\\n\\n187256.\\n121286 |\\n3148a¢ |\\n18ege |\\n81890 |\\n1276480)\\nABTS I\\n1385288:\\n54390 |\\nS6Sge |\\n72908 |\\n\\nbeereseree ee!\\n\\na0 |\\n298°\\nad\\na00\\nBOR |\\n808 |\\n800\\naa0\\neae\\n228\\nB86\\n\\nPreecccccccccecccccbrcrcctccreré\\n\\nveccercrees\\n\\nOOECOOCOC OCC CCCEET TOTO\\n\\nercee?\\n\\na\\n\\n.\\n£\\nx\\n\\nns\\n£\\nx\\nx\\nx\\nx\\nx\\nx\\n.\\nx\\n.\\n.\\n.\\n.\\n£\\nx\\nx\\nx\\nx\\nx\\n<\\n<\\nx\\nx\\nx\\ng\\n\\nwt\\n‘\\nhy\\n:\\n£\\nx\\nx\\nte\\nx\\n<\\ng\\nx\\n‘.\\ni\\nSe\\nv\\n£\\nx\\ng\\n¢\\n<\\nx\\nx\\nx\\nSor\\nvey\\nv\\n.\\n£\\nx\\nSoe\\n%\\n*\\nx\\nx\\nx\\n8.\\n83\\ntf\\n£\\n£\\nx\\nx\\nt\\n*\\ng\\nx\\n.\\n.\\ner\\ncee\\nv\\n£\\nx\\nx\\nhep\\ngh\\nx\\nx\\n$\\nea\\nCh\\n.\\n£\\nx\\nx\\nx\\nx\\nx\\nx\\n.\\n.\\niN\\ntt\\n.\\n.\\n£\\nx\\nx\\nx\\nx\\nx\\nx\\nx\\niN\\nuy\\n£\\nx\\n£\\nx\\nx\\n&\\nx\\nx\\nx\\n$\\nhy\\n.\\n.\\n£\\nx\\nx\\n*\\nee\\nx\\nx\\nx\\n.\\nv\\nMH\\n.\\n.\\n£\\nx\\nSie\\nx\\n-\\nx\\nx\\n.\\n¥:\\nSe\\nv\\n.\\n£\\nx\\nSai\\nx\\nN\\n\\nas\\n\\n“~\\n\\ndreccceecccccerccrecccccctrarce\\n\\nwamatbercednveupse tees umacces ter see trac tuerens\\n\\ncereectcecer dr\\n\\nreceee\\n\\n \\n\\x0c',\n",
              " 'Perfect UB04': '         \\n\\n}\\n\\n932323  @32323\\\\\\nNE\\n\\n:\\n:\\na\\n\\n    \\n\\n1283 33RD ST.\\n\\n_CEDAR RAPIDS\\n\\nAZ STAT.\\n\\n    \\n\\n9 PATIENT ADDRESS.\\n\\napontannennnnananennnnnanannnnnnnana:\\n\\n \\n\\nJMERCY. MEDICAL CENTER\\n\\n \\n\\n \\n\\n  \\n\\n \\n\\n4\\n\\ncanna a enlace\\n\\ne\\n\\n30\\n\\n28 ACDT!\\n\\n:\\ny\\ny\\n‘\\n‘\\n{\\n\\nSs\\n\\nTION: COB:\\n\\n*\\n*\\n*\\ny\\n;\\n\\nAMQUNT:\\n\\nkadetaaieeaidatineneeneeteeneenns\\n\\nVALUE CODES\\n\\nlenwennte tee:\\n\\n                      \\n\\nBE\\n\\n€O\\n\\nQo\\n\\nA\\n\\nIDES\\nAMOUNT:\\n\\nBEES\\n\\n“VALUE €O\\n\\nCODE:\\nRRR EL RE\\n\\n2\\n\\nBESS\\n\\nVALUE CODES:\\nSO AMDUN TE\\n\\n   \\n\\nREE\\n\\ni\\n4\\n4\\n4\\n4\\n\\nSRDS\\n\\naes\\n\\nSe Soon\\n\\n  \\n\\nq\\n:\\n:\\n\\n  \\n\\nq\\n;\\n1\\n\\nSee\\n\\ni\\ni\\ni\\ni\\ni\\ni\\ni\\ni\\ni\\ni\\ni\\ni\\ni\\ni\\ni\\ni\\ni\\ni\\ni\\ni\\ni\\ni\\ni\\ni\\ni\\ni\\ni\\ni\\ni\\ni\\ni\\ni\\n\\n \\n\\nsoncieancnennennnetonnnhs\\n\\n47 TOTAL CHARGES\\n\\n \\n\\n \\n\\n   \\n  \\n\\nSiac\\n\\n48 NON-COVERED CHARGES\\n\\n:\\n:\\n\\n   \\n\\n62 INSURANCE GROUP NO.\\n601430-1000\\n\\n4458 |\\n80680\\n144200@\\n6133\\n526\\n1178\\n425\\n3487\\n476\\n\\n \\n\\n93000\\n\\n\\\\\\n\\\\\\n\\\\\\n\\\\\\n\\\\\\n:\\n;\\n\\\\\\n\\\\\\n\\\\\\n\\n1937190\\n\\n\\\\\\n;\\n:\\n\\\\\\n\\\\\\n\\\\\\n\\\\\\ni\\n\\\\\\n\\'\\n;\\n;\\n\\\\\\n\\\\\\n\\\\\\ni\\n\\\\\\n;\\n;\\n:\\n\\\\\\n\\\\\\n\\\\\\ni\\n\\\\\\n;\\n;\\n}\\n\\\\\\n\\\\\\ni\\n\\\\\\n;\\n;\\n}\\n\\\\\\n\\\\\\n\\\\\\n\\\\\\ni\\n\\\\\\n;\\n}\\n\\\\\\n\\\\\\n\\\\\\n\\\\\\ni\\n\\\\\\n;\\n;\\n}\\n\\\\\\n\\\\\\n\\\\\\ni\\n\\\\\\n:\\n;\\n;\\n\\\\\\n\\\\\\n\\\\\\ni\\n\\\\\\n;\\n\\ni } 1\\nnad }\\n\\\\\\n\\\\\\n\\\\\\ni\\n\\\\\\n;\\n;\\n}\\n\\\\\\n\\\\\\n\\\\\\ni\\n\\\\\\n\\'\\n;\\nsf efi\\nj\\n\\\\\\ni\\n\\nate\\n\\n  \\n         \\n\\nEMPLOYER NAME\\n\\nita enneanneennianmene enema\\n\\n161 GROUP NAME\\n\\n           \\n\\nep focmeenpaengmceni\\n\\n@32323\\n@32323\\n@32323\\n032723\\n\\nsaan tant\\n\\nXQNWO1374610\\n\\ngsr\\n\\nJanene\\n\\nCREATION DATE\\n\\n4 DOCUMENT CONTROL NUMBER\\n\\n   \\n\\n63030RT\\nJ6690\\n31100\\nJ1170\\nJ1885\\nJ2175\\nJ2250\\nJ2704\\n37120\\n\\nso sass sntmn antennae amare ae Re an aRanm aE nae RmaNRERNaNE RAR\\n\\nFN ree tee tee eee ee ee re Se eo ee ee eee ee eee\\n\\n4044 HCPCS 7 RATE CHIPPS CODE\\n\\n \\n\\n   \\n\\nORTHWAY WELL AND PUMP\\n\\n      \\n\\naq\\n\\n \\n   \\n\\n   \\n\\ngta hacen ace RRRCRRLRRRRCRRRCR\\nSonning tnnneennntnnnnnnn\\n\\nsenses ee\\n\\nBATE\\n\\nDORE\\n\\nROCEDURE\\n\\n   \\n        \\n\\nsey SSS EEE EEE EES\\n\\nOTHER?!\\nOTHER PROCEDURE\\n\\nOPE\\nCODE\\n\\n  \\n  \\n\\n  \\n\\n             \\n\\neewedpnceedenere eesed $ i a-$ ‘\\nPot fe! i a ee ee ee ee OS ee pee Po\\nPoi fe : ee i i {00 pa pe\\nPoi Ee i Poi ot i ged me foi op\\nPoP ob RG i PiMan = i i af 8 wei BE\\nieioiw | i Ps i itt wo < i i bod iA Ue\\nDob ofe | od Le i qd | eau o i il ia gs 8\\ni fot fiw Ho QO | VAaHs uu i la Po oee oes ie we i\\ni foi be io N § 4 D2Boe O22 i Teg ia ted ie i\\ni oi dee ia a | ianeere Sw i bed ri mio: i\\ni i oi ie epee 1 f if wwe min Oov i Pod Po Nie: i\\ni i Be ia Oo | MAINZ AAN + (NN i a ri iB iB i\\nioe i ot BS i Oo - wt wats ssstss | i Pa ia ae 8 i\\nfu i i ig iu mM | ZOLSUSSSSLDSESE=E i bed ri ini | i\\niE poi f they Oo | iwHosd ANONMNAOTE i pood ped =! i\\ni i i i é in ib Me ONNNDOOANO i ee Pat ba a i\\niW i; die iu qieiipnb €£eowooneanre jk i jz Pel Heo: i\\ni fete provers SY Hf. MUHOAMM At OwO iO i it poy oa; | i\\ni , i oOo FHZNMOMNOAOCTO> i i 4x iB ee lw i\\ni<t edb | BS | iad a0! (YVSIHWOANAMANA Oe i fk rr en Be: we i\\niO bt eeeeeneeee 4 ON MNOS Lee TMTIWNONnoOmMw i i tet ial ei i i\\n14 i Ze mMmN uUMEsoseE norman ne a i iz ig! 3s\\nia pe MA Z2tisiSCHeNnNTGPOMeMedO ae ae i2in is 8 i\\nfu i iO HN FTOWWOODWOONDDYL 1g isin Bin ii of i\\ni= iw imx OQOwfttwoezrvss3srs su ix (Si iim ei ie 1B\\nPe wy iO EN FO Sot zae2222222ea io ha ilu a) i: 8 i=\\ni> :¢ coe fu oo ne oo /@ co FiO jee | 8 id\\n1 Pe Ue Oe iD NUD GONDBOOWOWNUOWOUWUU VO id iS uw £1 fe Bho: 8 is\\njoc iB OLE IO WOsnhOoOnRMaAMAMAMa MA i® i210 iwien 2 is\\nfu ig iis MA AW EINANMMooODOKWDUW OR io) (6:00 ie iM ee i is\\na eae a eeeereennmnnecrreneeed tt DD, DD DD DD DO eeeereerreeenen Need LON EOS Re\\nao oO a N m tot we ~ 9 an S = nN \" bas a 2 x ad x Rg fH 8 Rg < a u < a wa <= fo a\\n\\x0c',\n",
              " 'Wilson 1500 form': 'Docusign Envelope ID: 67D88E2A-41E2-4710-BF67-OB9AE40F6C58\\n\\nTO\\n\\nae\\n\\nBG Bo -PEDERAL\\nPO BOX 105557\\nATLANTA, GA 30346\\n\\n     \\n\\n   \\n\\n   \\n\\nPage 1 of 1\\n\\nSRA SS SAAN SRR.\\n\\n20,055\\n\\nAAA NANA SSS LATA AAA AAA OAOAaOggAggggqgowgowwwwogqggqgqgOQG Gogg ggg Aggy\\n\\n  \\n\\n  \\n    \\n    \\n\\n      \\n  \\n \\n        \\n \\n \\n \\n\\n          \\n\\n  \\n\\n \\n\\npe ee ASSESSES SOE EVES\\n\\n \\n\\noccas pe SAAS SRR ES AE AEE SESE SESE SS SS I Sa CESS\\n\\n   \\n\\nSESS Severe EE RR SO\\n\\n        \\n\\n \\n\\n& GATT S NA laniall 2 SAKE APY AQ f PATS Sey SES PRES SER\\n2 PATIENTS N TERA ws PAPE PS LAA See BELTS NA\\n\\n          \\n\\n3 «\\n¢ 3 . BS rennenics e . wh\\n: goo gies : : oye\\nos CATON AES exe tu iis ESQLAISSYS . D . y\\\\\\nPct RIBS we yah we iat Peek § das, VGA PRR AS ag fehl. :\\nbose SESS Se f - nN y\\ni Sos wee s y\\nx . woe SHS SAS gata, s :\\nieee: peng: Seerresy y soon FEE pee x : ¥ ‘ :\\n8 i g s $ 2 oyes s 3 y 8 g S 2 :\\ng : $ x g $ : : s x 8 s Ae C t\\ns g : s Sad Md Ss % : : 8 s :\\nx g z 3 y s S s 3 :\\n8 x : ‘ = 3 . s g :\\n3 S ‘\\nSennonand dawnt Renaeerrnast Dawenent Dean Seed 8 i\\n\\n \\n\\n \\n\\n      \\n\\nPOOP CRLOSEELEDEDELLELE:\\n\\nrsa MARIE\\n\\nSAAN SOO\\ng x PPS\\nEk 8 we s i\\nSS y se 8 : i\\nSES¥S 8 def $ a\\ncern ee INES 3 rs iu\\ng g g g\\nx :\\nNe SESS ANN SSSR EEE ee nnn RRA NRA AAAAAAAASAREAAAAAANS AN AAAAANSSANAAAA// SUA A a MA AAA AAA TUNA HES ANA ee Fr ert\\n\\n \\n  \\n\\n            \\n\\n   \\n\\nmeant weet ta naa tbaa na tatiana ta CO EOE EERE CE OEEPEDOLEDLODIBE:\\n\\n           \\n   \\n  \\n\\n   \\n\\n \\n\\n  \\n\\n \\n\\n    \\n  \\n\\n \\n\\nx & ATES? APTTEE APA seyen ts foam gg PISETOV SN A ANN marty\\noo | eS — ees fo. ERASE Eo ALIS Brose\\ng\\n: 3\\n: cama Sans opemnyyy g : * .\\n=; ey aan ane ry nw. y $ y $ y x\\n< : oT Te : : : : : ; 3 .\\nS984 NE HOUSIN ROAD a PoE J i a\\n: ° te. 4 5 : x $\\ny: NF Ae ab & WS no Sor he has = ‘ ‘ awh EN s y : : z\\n; ¥ 5 S 3 = % By 3 3\\nEapannsansaappansantannanenenes : eee Banimend Bernaenesanat Ses\\ny mn ~ ANNAN ANN LAWN ANNAN AAA NASA E SHAS TES AANEEN WEASEL ANNES ESEESE SNES ATE CASE AREER EEE R EEE NN ARS nessun ney eeeneaennsanannyeiwenasena a onnanneanrneeannesiaeyshsarnuenasseweisaamaena nana tae eee See RRR NN Ee ee ee dee ee eee ee ee SASS MS BES ONSEN DS MDDS ADD SNN SIND BIND ANSBENSWNNSNINSNIDSBOANS GRINS BUNS SENS DUES DERSOENSANS SIND SMNSNE tae heen eS\\nOnE * sige Fae SN EEN ESE TOS os\\nESYTS PATS FS PIAS ga PP yy\\n8 eS Eee § Sy F My LESS Swe SF\\n\\nBAYFIELD\\n\\n   \\n\\n \\n\\n  \\n\\nASS SSS\\n\\n~S ret AER, QUEENTE EES\\nais EO YES PS} SRW nek “\\nat ELAS ERP PRS AN on EERRS\\n\\nOTE OL EEELOOOOL ODOT OCC EO DEOELEIOUIELOL OUTLET:\\n\\noe\\nOS\\nsoe\\nio\\n\\nB fl try,\\n\\nELCLELELLOLELEDLOLOLLELELOOLLLELPLILIELOLIDLODE:\\n\\n    \\n\\n              \\n\\n     \\n\\n             \\n\\n           \\n\\n            \\n\\ni.\\nSeeneuneeneemencs SASS ORR RSS EE AE ee\\nx Sareea ann ONAN SAGAN NSS SAU N SSUES SETS SS TESST S ESTES SSNS HSS SAYA ANSUEY ENERO SUSTE OUST SSSUESSSSSNSASTESURSNSSORSASSNUSEUSESSSSSAGNSSSNASUSSSTIGSEDESSSUESESSESSSUEDUSESUSSSUSISUUOSSESSSSSAS USNS SUSOSISSSSSUSESSSSSASSNSATUNAS NNT\\n:\\n: . a AEE Moy Ss eS ON) EE Kee Re o — SR EE\\ni SO Peet Yad fk LEN ne teesey aS ~. ws VSS ee RSS\\ns > ° Pe, Tawhe FAS g POSS PAST SEAS ND * m3 Rats\\n: :\\nx 2 —_ .\\nVf R BMP L OY B Bh . )\\ns g : . a\\n: g ‘\\n; : : }\\n: : ae 4 aw a Boeed ae eS a :\\ng\\n\\\\ i\\n{SNe An ein nn SR SNR SENN SSNS TTT AAA ASA AH VID g\\nSeana seeeenss se eeen sesh eS RR OE ESSE PE RES SESH ERI SINS ERRBSSSSTERS RESO FERRO LEE RRNA RI BSUS E ETERS EES IIS SE SEE ES SEI\\ng\\ng\\n3\\n3 g ic\\ng = SSE,\\ng x 3\\n2 os\\ny SERDy 3 gees moe\\n—_—— : s : ; s z ess\\nporsaustionnsneiess seamen natant ume magmas s 3 Sa easing Ye : a & 7 5 ie\\n: AS z\\nSoA aR : * aN\\nS 3\\n3 z s 3 x x\\nThan’ 3 Jawad! Baawaseast ks\\n:\\nSY ENS PS REE FSA SS > theo Sesnnaeesennsnn cen eens ssbb ene e SLE EERE ESHER EASES EE ESERIES UU ESSRNNS ESSERE RSIS SUES UE ESBS FERRIES ESSE SENS ESN AMINE URSIN EIN SVT,\" AOTC\\nby sy ERSERVED BOI PS ae 3\\nwe ae Sgt nas KS Sek AE ae 2 BAR Shey,\\ny RS\\nPM,\\ng\\nz\\nSee See =\\ng : x g\\nz fo geek y eS z\\n: ST ae Sat x 3 ~\\nz BoP aw 3 = z\\n3 x 3 3 ~\\n3 x : 3 g\\nZeenat RewwesS Lees 3 »\\nA SOSA SSS HELA Seen nee nnn n ana mnee tC SSAA AMARA SSE & AAR neo nnennntnti cpannbaaman.ancennaanannneneniiea seaneeeenneenne neers\\n\\n \\n\\n \\n\\n     \\n       \\n  \\n \\n  \\n\\n \\n\\n \\n   \\n  \\n \\n  \\n\\n        \\n\\n    \\n \\n\\naren nnn en ee SVS Se SSS SSSA SE SEES SESE SEES HEE EEE EEE EE RRS SE En EERE EEE SESE ERED ERED HE HEEB\\n\\ng\\n< 3\\n«x Rees & : . 3\\nhee SESS SFY as i\\nnet ot, ‘\\nx Rey,\\nSaaemeean 3 8 xX x\\n=\\n: RES\\nx Sea\\nx\\n$\\n:\\n.\\ny\\n\\n      \\n\\n3 Sy EYEE EY g eh pe : preecee 2 & ve\\na Ye PCW Aas UES 4 a REY EL ANS\\nBe HY SRA ARS a Rae XN : ME. Ot Se YF PAE\\n\\n \\n\\n3\\n:\\nt\\n:\\n3\\noy\\ng\\n3\\ng\\ng\\n3\\n$\\ns\\ng\\n3\\n3\\ng\\n3\\n3\\n3\\n3\\n3\\n3\\n3\\n3\\n3\\n3\\n3\\n3\\n$\\n3\\n3\\n3\\n3\\n3\\n?\\ng\\ny\\n3\\n2\\ny\\nN\\n2\\ny\\ng\\ny\\nN\\ny\\nz\\ny\\ny\\ny\\n:\\n<\\ng\\n3\\n$\\n£\\ny\\ny\\ny\\ny\\ny\\ny\\ny\\ny\\ng\\ny\\ng\\n\\nSeewnnseeeneenseenenennn\\n\\n \\n      \\n \\n \\n\\nSASS RAR SSS IS I I mc cc\\nSSF SVE Ste’ SRY SEER ON IER APRA NPL AIas\\n: Se RSE SS SELINA S TRS - RH\\n\\nSS ASP PSS AM SNS Lat SPI WSN.\\n\\nRo Sk So Ee. Jes\\n\\n \\n\\n \\n\\n   \\n\\n   \\n    \\n\\n%\\n‘ey\\n\\nwards.\\npo\\n\\nss\\n\\nPee\\nMEERA\\n\\n.\\n\\n:\\n:\\n:\\n:\\n:\\n:\\n:\\n:\\n:\\n;\\n‘\\n:\\n:\\n:\\n‘\\n‘\\n‘\\n‘\\n‘\\n‘\\n‘\\n‘\\n‘\\n‘\\n‘\\n‘\\n‘\\n‘\\n:\\n‘\\n‘\\n\\nWS\\ny\\n\\nSELES NED.\\n\\n    \\n\\nsieston SIGNATURE _ ON FILE |\\n\\nSe saat NNNRNNNRNANNNNN RAN Shs SSN SSS\\n\\neisai) LG\\n\\nAUPLEPEPELELPSEPELLIPIDEDIDLIDPDPSASTEAPIPEAEAI REA EEA PIER ELAS EL ELIE\\n\\nwdeitpeevererveeayerddereinrverdicerenrererIn\\n\\n   \\n\\nSRA\\n\\n              \\n\\n \\n\\n         \\n\\n \\n\\n \\n\\n \\n\\n    \\n \\n\\nSw ; : 4\\n\\nq x ACRES VES St prower err ¢ REPS SER RRO Sy aS, Paget SSP sere oe: nd y IK cook SERS bad MRSS t i\\n: nn &y DA oe a “OF € CAUS SENT L — NES SN ee ie - ay PTS. QIPRES Save s PEIREY § or ee oe : &\\n: Ss kat Ses Mt Ce my y Sk Raat TENA SIS Py ASE gOERSS Sot BEES REO PRY 8 SSL eee, 3 S\\nt af ie i Sy 3 RNP as\\n& : : Sosy cy 8 3 3 g\\n: at & : t Rah g ih.3 >\\n\\nt 3 s :\\n\\nt i i s :\\n\\ny i g 8 y\\n\\n: : : g :\\n\\n: i x {\\n\\nx 3 8 : i :\\nSee a RON AON Ne CaO SANA E ALL NSS NEE NEN Se eae E RETR NET ESES ETRE ERENT ERNE ENO REEER EERE RT ERAS ERAS AAAI N IAN * Se ASSIST PPA AAAI VV AAV ASTRAY ESSA wy a ae ee eee eee eet nett eee ete t ee eee eee eee eee eee Ee ee ee NR SESS SRN SSNS SEES\\n\\n: ws ‘3 es oe yey SRSS on fo SALAS. OO. SceeA ant t 8 ss wy Bae soe ae :\\n\\ni VP. NAME EYE SEER RAINES GSN ES : See Tey SIREN ry :\\nboES . OSs Re aE SRP PAPERS PEPALS WS PLS LES $ sey ry JP PARES 5 :\\n\\n: i s :\\n\\nz x 8 =\\n\\n¢ : : s :\\n\\n: Rt paca Rum th RE see lhe wide glee gflre wine albee\" nel® Boel WERE Bll BE vol BBRE aetil ghetnnatlllon MD annuthenee ones onseu wens ies wi 8 :\\n\\n: : : 3 :\\n\\n: ee 3 ws } i :\\n\\ni wT pope oy “y et i Sey i 8 :\\n\\n: i _d a. PPS : : :\\n\\ni LAIN A, a pa :\\nsvn : ALONG, KRrOU ve oA a i AN LARS CA AO RUA Li eee lees 3\\n\\n \\n\\n \\n\\n \\n\\nBs\\n\\na ESE EEE EYES EEE YE BE EEE EEE\\n\\nA\\n\\n \\n\\n     \\n\\n  \\n\\nBe . oe\\nne a\\nSac . :\\ng : §\\n: : :\\nx 3 $\\n= > t\\nx i 3\\n: 2 ;\\n: s g : 3\\n‘ Seanad ¢ i\\nnorersnanneanonansnnnnapssnnnannnonnnnannnsiiniisaaanaaaaaasssanaannnaaanananeayessastennnanatastasassaesssnnnass anaaananannnasanaaoaaaaaanasinasenannassgaaaaaaaananesnennonasassssssnaasaunnnnnasnssaasssnihpnsasasasaansanannnnasaaaasssss opposes oe AE aannaatint saan innnennnne tralian AN enn Rt annnannnnnnnnneit san sepudiawed\\n\\n        \\n\\n   \\n\\n   \\n\\nry ky SSRICVEE ESS F EAE TERE See\\nSIASNOSIS Of NATURE GF §\\n\\n  \\n\\nAlok Syn Senge, Eons bee\\n& tone MEST EN es se\\nAw. 1O Servis fie fe\\n\\n            \\n\\n      \\n\\n \\n\\n:\\n§\\n= pay ig §\\n4 ¥ 3\\n} NM O i ‘ i :\\né ; y §\\n3 Rew, ; : PY g 3\\nwtininknond SAS Shaan Sat Tapa san eset cnn nanan SSAA RS ANSON NS ASANO SF . +\\nBAP Aten RADAR RB AR ARERR ES AAR ERASER RERE ERASER EEE ENE, AAAAA NASA AANS SASS STAN SESSA SANT ESTES SRE EE STS AANN NASR STE S SSE E ESSAI S ASSN SUBNET tt tet METS RETA S AEWA REWARD Ta tte te et t SAAS SD\\n\\n   \\n\\nASSASSINS\\n\\n \\n\\n   \\n \\n \\n\\n   \\n\\ny\\ng\\n3\\ny\\n3\\niS\\ny\\nz\\n2\\nz\\nt\\nt\\ng\\ny\\n3\\n2\\ng\\ny\\ny\\ny\\ny\\ny\\ny\\ny\\ny\\ny\\ny\\ny\\ny\\ny\\n3\\ny\\ny\\ny\\ny\\ny\\ny\\ny\\nt\\n:\\n\\nsey i ek GRU Ga ome\\nz PINE AR 3 BOP ES wNY SE PAASEET SS\\nwrt el Oe Ss - PURE PRES SE PAIN SAPS WER TS\\nSaw x <= i: ON 2% $ s\\nBeane Ra asaneen anna: SSaRANAASAS ~ Be 4 ay RS x\\ne SD eS eee ASA, rele daaeeeeecnenes a nasser aisnesaag:\\ng : i seo . :\\n3 : 3 : as 3 s :\\nRe}. ate RNa 8 x :\\nann a ai an nie ie nlc os Seen ea RRS ee, & see\\n\\nLinen RSet LAW AAT Baweeneeeeeenenneeneeenen nner enennennnn nena\\n\\nPREDOOLCEOOLOLELEOLOLPOELPITOEUEEELEDEDTTISCELELYEDULESESLEDISEEDILIFHSEEL2\\n\\n \\n\\nSERA SEAS SSNS SSS SONNE PEN EP\\n\\n \\n\\n     \\n\\n  \\n  \\n  \\n  \\n\\n \\n\\n \\n\\n             \\n\\n \\n\\nLO ANREP ACO RT OCDE PO CCEP OPT DIDI EDPDIDEPLLDILE DED?\\n\\n    \\n  \\n\\n           \\n\\n  \\n \\n\\n    \\n\\n     \\n\\n  \\n\\n \\n\\n    \\n\\n              \\n\\n    \\n\\n   \\n\\n       \\n\\n                   \\n\\n \\n\\n       \\n\\n           \\n\\n2\\n:\\n2\\n8\\n3\\n3\\n:\\ns\\ns\\n:\\ns\\n:\\n:\\ns\\n3\\ng\\n:\\n:\\ni\\n3\\ny\\n3\\n;\\n:\\n:\\n3\\n:\\nSSA SSRIS SS SSRI SSA SESE ERE RENEE Teh gata hth aennnnthhnnnnhnnnnnnnniens PANNA ABR ISSIR ee ene EEE SY SSAA SSE AED\\n. SRN ER oS 3 Sy x oop SQ ery oN Sh peek ove z $ : 3 3\\n; NA 7 EeSy EME ; SS : Be SNE RE S. EE Ek RY s : 3 } segs\\n* Re SVE ES] 2 NAS : heat < a ery A TS = : 3 : wks\\n: z 3 : 2 $\\nook : - : 3 :\\nMee S x = 3 2 y\\ney Sg ‘ “e 8 z = ‘\\n3 JY : : : g :\\n: : g : : :\\na we oy 3 y g i 8 i\\nPsP SNS g : <\\nB28 ey i 3 3 $ z 3\\nRibs : $ Rae CE < 3 3\\nSop ppasta nap naean anaes tatenani nen anaenaniitetatasanghasnananannsenenniaaah nana iss cnenantnngnnnnnnna thon ness SiS SSN SANSA SSSA SSAA STI SNSSRS NAA nS AA GA RSISI SNS SSSA SI  A RUSS SSI SNS ARS Aan oananasanuaAnnsohns Nereis’ en Say eR BE\\n§ : 3 3 3 ;\\ns : : ; }\\n& g ‘ x : } EE\\n< : Zz\\nSS $ : : : 2 at\\n8 $ : : ‘ 3 Raw\\n8 : : x 3 g x : : $ Ss eon ee sown ome meme wee ee lye ape ome Hee eee ge aes ee ggedle ell\\n: : $ : t 3 g : x “a we 8\\n& 3 : z 3 es g < 2 £ 8 ’ > z x\\n: - ey x s = oo : < g . OO “ ‘ - < : ; ; 3 ; \\' ; yas\\n: g : < z ENS &. ‘ nw} °\\n: i ae : g es : s $ : FASS fey 2g Sy,\\n: e $ ; éa & i $ : 3 3 : P ORNETS  g why 3 at\\nau eal ecen Vie re = ad 3 3 9 & x R £ S 2 ¢ Ss\\n> . ~ . IIE. EO OM ee ae SoS EEE EEE EEE 8\\n$ ons »\\ng ‘ 3 = ‘ \" s RA.\\n> < $ : 2 a\\ng 3 3 te\\ng 3 3 : * Re\\n: : . : 3 3 8 oe. oe RRS\\n: % g 2 : <\\n: s , . t 3 3 ” 3 3 3 8 a\\nyy A 4 ai = i 3 : $ 3 3 { Ses\\n: & ; f 3 : : 1 i 3 ; 6 § She\\n3 3 ta y 3 3 x 3 s $\\n; Lf § AE as ~< : z $ * g : g : :\\n: 5 g j 5 = : s i 3\\nPVA IU 26 Ul 1 24 1 SSE Neen neh nD ala ncaa aaa SG tn oS SSA RS A RR RRR RR a a NK AC RL SSR SAS snk\\n: $ : . :\\n$ 3 $ $\\ns ‘ : :\\n: : : :\\n: :\\nS$ 2 ‘ 3\\n: : i 3\\ns ; x 3 5 ‘ 4 : i : By 3\\n: : 3 3 3 : i : : : i :\\n: 3 : 3 3 : ¢ 8 : : :\\n: 3 3 3 3 : : ; : :\\n: 2 : y : 4 :\\n: g s : s © 3 s : : ‘\\n3 3 3 s 3 $ : $\\n: : : $ : : s 3 ® i $ x % ‘ : ‘\\nSetrsesnaesrianeieaeenenn panera tenn nn sons ea NNN NNN NNSA SES SES ESTES SSE SSN a AAA AAA AAA RRR R TENTS ASEAN SN RAREST NEE NEE : AWA MIAN whee ae\\ni : 3\\ny : $\\naf : :\\nst : $\\nsv 3 s :\\nSS sy < ‘\\n~ me oe\\nSei : : . . 3 : of 3\\nBey 3 S * 3 : ‘ : $\\n: < 3 5 g y 3 S233 : :\\nx 3 g & 3 y 3 g 3 TREES 3 %\\ns 3 3 ¢ g g 3 ‘ 3 $ yy. 8 $\\n3 3 3 : g 3 ¢ a 3 y y ‘\\n: : 3 : 3 3 : i : : : : :\\nSoeeneeenen entrees reese peennprey rena aad nanan nnn ns asa gana ven asap savanna son a Nane cans etn savant at asteantnannnseransnnnanennrentaninnnnnann tent sepauenceceucuseesidaxeeesencees: oacepumecuRTah eiectereeeueeueneneestecpeeeeneneeney: svnpinanntasann anne deve I NS nn nn nnn np SN SSA Nn EO SA LAN a NSU NS A SO SNA 3\\n$ 3\\n: 3\\n: 3\\n: # 3\\n: 3\\n: 3\\n: :\\nt > : . 3\\n< s < 2 = s & : ay\\n: : $ : $ 3 i i :\\n: 3 < ‘ g 3 2 e f :\\n‘ 3 3 3 g 3 g : g ees :\\n: < : g 3 3 g $ : Myy :\\n: : $ 2 2 x 2 3\\nx S 2 z x s) & z = * .\\n3 $ 3 3 3 & . z x ey :\\n3 3 3 3 & z y\\n‘ t : t 3 E 3 £ g :\\nReweerwe werent nna ana teen etn aa tat nt ae SAA A SI ASS IS RIS AN RIM ISIS NN WANA AAPA I I AU EE Steen SAA en Ei etna Rn\\n\\n \\n\\nsie\\nxy\\n&\\nahs\\n\\n   \\n\\nee eeeder ed eOcE Rd ETC Ob TPE CE EEEEE DE EOLIEOEHEETEE:\\n\\nanencaniadatienctoces\\n\\n        \\n\\nfO\\n4 ‘eal 2\\n\\nLovenevnereriveer er ere nie\\n\\nPREP PAPPLELD,\\nvaercediete\\n\\n \\n\\nSS SESS ASSERTS SRI A ISR AR RASA TLRS R RISE WI SORE ELMAR SERGI\\n\\nASAE SSS SFE SS TSS SSS FP FSET SAS EI ESSA EAS SSSI SS HASTE HSER ERAS SAS ANS HSS SS HESS\\n\\n \\n\\nSSS AE SSSR STE ERR Sa SA gS\\n\\n    \\n \\n  \\n\\n \\n\\nSe Se ace are ys sae SPATE APES @ Perk Aping / Se ys FEN\\nSh, FEQESAL TAX LO. NUMS SN SATIENTS At SAPS | P RAID\\n\\n            \\n\\nEAA: ghee\\n\\nx \"491289A-2105 | a\\n\\n     \\n\\neneenerer\\n\\n275.31\\n\\n4\\nch\\nedd bed didhy\\nPECELEOLEE A:\\na\\n3\\n3\\n\\n22.\\n\\n       \\n     \\n     \\n \\n\\n    \\n\\n         \\n\\nays SMS PEREY EEK He gs te $e EMMA EO ES ge on “\\n\\n24 fae ew G00 oes WOLIEN ATH et 1 eka }\\n\\nSS i oPy : ; Rennes BYES 5 SRS ASS ~ ;\\nv t . RS RO ETS & z\\nohh ,\\nse\\n\\n \\n\\nRED CLIFF HEALTH CENTER\\n\\n36745 AI\\n\\nseee\\nappl\\n\\n30745 AI KEN ROAD\\n\\n  \\n\\n_BAYFIELD WI__54814-4579 BAYFPTELD WI 54814-457\\n\\nee ar 0 Oe i ee ee ee Sense neeeesnnt antennae tennant ntannaenngi tina tenannnasenntanenrinnsiais vty insnaivtaatatn anna haa SRA SLANE YSERA\\n\\nSIGNED Of oes LO nt 52 7 Z261QFO400X * 1497744015?\\n\\nSis SS dr. DW S-A-- AM Aw SAA AAA oft b2 SESS SS SAAN RAVES SRS SSS\\n\\nOOOO COEPERDPLEDEDOPDIPSBLLEDLIDI DEAE ASAEEAM EMEA EMEA,\\n\\n \\n\\n&\\ny\\n\\n   \\n\\n   \\n\\n            \\n\\nLy = oS e Seen . Sey Sy Sa OE RO QAAY thy oo ol Sy ar SEO — SF: re a\\nAHR Ne leamter tings Afaeiial ace salen yk Oy SA ae Soe s ~~ SPO ER SOAVEN\\nINAS So! Sas SP PRLS RSE RIL SS SERS 3 RS PiSRARSEES CAL. Beds NGISR PPL ESS 8 Aes SS § FHS SPER FOR RAG Waa\\n\\n   \\n\\n                 \\n\\x0c',\n",
              " 'itemized billing1': 'O1f05/2021 O9:168United safety & Claims (Fas 9186657310 P,o04/008\\n\\n12/29/2020 Bill Details Report Page: |\\n[1:24:46\\n\\nApplication Code: AR User Login Name: cnunez\\n\\n \\n\\nBristow Medical Center Episode Number: 137970-0002 Billi Number: 137970-0002-001U\\n700 West 7th Street Pattent Name: MORRISON, KAREN Bill Data: 11/12/2020\\nSulte & 10259 3 22157 EAST AVE Insurance 1; BOCES OF OKLAHOMA\\nBristow OK 74010 Group:\\n(918)367-2215 BROKEN ARROW OK 74014 Mambar: YUPS823018128\\n(918)869-7432\\nInsurance 2:\\n\\nMORRISON, KAREN Birth Dake: 10/24/1962 Group:\\n10259 3 2215T EAST AVE Admission Date: 11/05/2020 Member:\\nBROKEN ARROW OK 74014 Discharga Date: 11/09/2020\\n\\nGuarantor Ne: 460579 Insurance 3:\\n\\nPhysician Name: MITTAL, YOoESH Group:\\n\\nMambeér:\\n\\nCharges\\nCharge Date Charge Code = Description nit Amount\\n11/09/2020 2073700 EXT CT LOWER W/O CNTRST 1.00 400,61\\n11/09/2020 2080048 BASIC METABOLIC PANEL 1.00 201.00\\n11/09/2020 2081003 URINE DIP AUTO W/O MICRO 1.00 45,00\\n11/09/2020 2085025 CBC AUTO W/AUTS DIFF WAC 1.06 104.00\\n11/09/2020 2086900 BLOOD TYPE ABO 1,00 47,00\\n11/09/2020 2086901 BLOOD TYPE RH FACTOR (D3 1.90 87,00\\n11/09/2020 2086850 ANTIBODY SCREEN/COOMBS IND EA 1.00 146.06\\n11/09/2020 2036415 COLLECT BLOOD VENIPUNCTURE 1,00 16.00\\n11/09/2020 2093005 #EKG 12 LEAD TRACING ONLY 1.00 195,86\\n\\nTotal: 1,299.4?\\n\\n \\n\\nA full itemized list of goods and services is available upon request.\\n\\n \\n\\x0c',\n",
              " 'UB04 Morrison': '   \\n\\n \\n\\n2 CENTER FOR ORTHOPAEDIC AND REC | 137970-0001-001U\\nPO BOX 258862\\n\\nOKLAHOMA CITY OK 73125-8862\\n\\n  \\n \\n \\n\\nCENTER FOR ORTHOPAEDIC AND REC\\n3029 W MAIN STREET\\n\\nJENKS OK 74037-3465\\n\\n        \\n \\n\\n  \\n  \\n \\n  \\n\\n  \\n  \\n\\n \\n\\n~~111920 112020\\n\\nyf 12020 FO\\n\\n+ 74014\\n\\n    \\n \\n\\n \\n\\n    \\n\\nT\\n\\n2] OK |\\n\\n  \\n \\n\\n \\n\\n \\n\\n   \\n   \\n\\npe | a\\n\\nneni annnenenrenannfnen\\n\\nBCBS OF OKLAHOMA\\nPO BOX 3283\\nTULSA OK 74102-3283\\n\\n  \\n   \\n\\neee Te\\n| 0250 | PHARMACY\\n\\n| 0258 | IV SOLUTIONS\\n0270 | MED-SUR SUPPLIES\\n| 0272 | STERILE SUPPLY\\n0278 | SUPPLY/IMPLANTS\\n| 0305 | HEMATOLOGY\\n\\n| 0320 | DX X-RAY\\n| 0360 | OR SERVICES\\nANESTHESIA\\n\\n \\n\\n30 44)\\n1738 30, i\\n2089 19, |\\n\\n14350 00!\\n104 00.\\n663 00; eee\\n\\n41747 39) E\\n\\n3265 00!\\n\\n \\n\\noa\\nw\\n~J\\nQ\\n\\nBee We WDE mB Om BN FH\\n\\n| 0421 | PHYS THERP/VISIT 271 00)\\n\\n| 0424 | PHYS THERP/EVAL 296 00. | .\\n:\\n\\n\"0710 | RECOVERY ROOM 605 00) |\\n\\n| |\\n\\n \\n\\n \\n\\n \\n\\n \\n\\n \\n\\n \\n\\n \\n\\n \\n\\n \\n\\n \\n\\x0c',\n",
              " 'itemized billing2': 'To: Assuirty claims\\n\\nPage: 2 of 4\\n\\n2023-06-23 20:53:48 GMT\\n\\nSTPMC Thompson Peak Medical Center\\n7400 E. Thompson Peak Pkwy\\nScottsdale, AZ 85255-4109\\n\\nFORWARD SERVICE REQUESTED\\n\\nDenise J Forconi\\n\\n5065 E MAZATZAL DR\\n\\nCAVE CREEK AZ 85331-2392\\n\\nVisit Coverages:\\nCigna Oscar - Cigna Oscar\\n\\nPatient:\\n\\n14808006603\\n\\nGuarantor ID: 109130\\nThis is not a bill. This is an itemization of your services performed at HonorHealth:\\nForconi,Denise J Admission Date: 03/23/23\\n50230820304 Discharge Date: 03/25/23\\n\\nAccount:\\n\\nHospital Charges\\n\\nFrom: Denise Forconi\\n\\n \\n\\n \\n\\n03/23/23\\n03/23/23\\n03/23/23\\n\\n03/23/23\\n03/23/23\\n03/23/23\\n03/23/23\\n03/23/23\\n03/23/23\\n03/23/23\\n\\n03/23/23\\n03/23/23\\n\\n03/23/23\\n03/23/23\\n\\n03/23/23\\n03/23/23\\n\\n \\n\\n03/23/23\\n\\n \\n\\n0730\\n0324\\n0301\\n\\n0305\\n0301\\n0351\\n0637\\n0636\\n0637\\n0637\\n\\n0636\\n0301\\n\\n0450\\n0305\\n\\n0762\\n0762\\n\\n0260\\n\\n \\n\\n73070000\\n32471045\\n30110650\\n\\n30500200\\n\\n30118000\\n\\n35110000\\nA9270\\nJ2060\\nA9270\\nJ1815\\n\\nJ1650\\n30100820\\n\\n45010150\\n30600500\\n\\n76210000\\n76220001\\n\\n26010060\\n\\n \\n\\nHC Routine Eeg; Tracing Only\\n\\nHC Radiologic Exam, Chest: Single View\\nHC Basic Metabolic Panel (Calcium Total)\\nCalcium, Total (82310)\\n\\nHC Blood Count; Complete, Automated\\n\\nHC Troponin, Quantitative\\n\\nHC CT Head or Brain; W/O Contrast\\nMeclizine 25 Mg Tabs (68084-491-11)\\nLorazepam 2 Mg/MI Soln (0641-6207-01)\\nAspirin 81 Mg Chew (66553-002-01)\\n\\nInsulin Glargine 100 Unit/MI Soln (0955-1 729-\\n01)\\n\\nEnoxaparin 40 Mg/0.4ml Sosy (0075-8014-10)\\nHC Glucose, Blood by Glucose Monitoring\\nDevice\\n\\nHC OB/ED Acuity - High Severity/Level 5\\nHC Blood Count; Blood Smear, Microscopic\\nExam W/Manual Diff Woc Count\\n\\nMed/Surg Observation Hr\\n\\nHC Observation Carve-Out Med/Surg -\\nRadiology\\n\\nHC Ther/Proph/Diag Inj Sc/lm\\n\\n \\n\\n \\n\\n \\n\\nThank you for choosing Honorllealth for your healthcare needs.\\n\\nPlease call 623-300-9044 if you have questions regarding this document.\\n\\nPrint Date:06/23/23\\n\\x0c',\n",
              " 'HCFA': 'DocuSign Envelope ID: 91F18D4C-F834-4F7C-A97F-D9675E12678A\\n\\nHealth Insurance Claim Form\\n\\nHO BCBS.\\nPO BOX 165187\\n\\nATLANTA, GA 36348\\n\\n \\n\\n|\\n\\n‘t= CARACE ee\\n\\n \\n\\n \\n\\n  \\n\\nee\\n‘ Bee ee\\n\\n1 WRERYS ITH DT, ux\\n\\nkf\\n\\n2 AATEFATS NOME GLO FLTG, Fv UT FETA, OR ATTA\\n\\nS, COALSON, 6\\n\\n \\n\\niis\\n\\n   \\n\\n   \\n\\n \\n\\nivi ie ASALHUS AHO Ws\\n\\n88 19 2613 Rn CI: BuReis,\\n\\nTO FREREG |, INRREDS ADOT Ne Serer\\n\\n  \\n\\nts INGIS1A5ugkOT\\n\\n4, DEAT.\\n\\n  \\n\\nGLENDDY,\\n\\n \\n\\nBee Mheriinge o-votesé\\n\\npaeaintan\\n\\nFEZ EAT RAIA TAME MEE SPSED THT SE\\n\\nar “ oe ae\\n\\n \\n\\n \\n\\n  \\n\\nSECRETE\\n\\nRIG VICARNORGIEA RELL\\n\\nA60R34396 . Cj Uxhse\\n\\nA WAR eANT Curren Pree}\\n\\na FEES EO SE ETE\\n\\nCaged aban aceite ec Ofer Ute\\n\\nRp pe\\n\\nHOU CiATUEGOLCES agian £15 7S\\n\\n \\n\\nABER. EAKEE AN BANE GH PRD AH POMEL\\n\\n8CBS FEDERAL. .\\n\\nTa air s09 hurrcRaG FENaNE HET\\n\\n  \\n\\nSOMOS IGNATURE Ob FILE\\n\\nwes@l 13.2024\\nTACHIE OF CHIFENT AUER IALETE PARNELL Pree\\n\\nRALTOIEENAT eran\\n\\nCiv idea\\n\\n   \\n\\nSES EO\\n\\n \\n\\nf zacHosalsaNe . sx\\n\\n \\n\\n \\n\\nee Bata aN RRO\\nHO BCBS\\n\\nxd.\\n\\nMpe.nor\\n\\n  \\n \\n\\nweed SIGHATURE ON FILE\\n\\n \\n\\n“aera\\nvere\\n\\n \\n\\n  \\n\\nA PMSRCAARINRHERTUOINETTIAN\\nfetech se ants\\n\\n\"FEONATES FATSENT UNCEER 7G REED: LN TINT CXCUBATICRS\\nf ‘\\n\\ninne MOTE ANC INSURED INAGRBATION mm\\n\\ni\\ny\\n\\n \\n\\n \\n\\n \\n\\n \\n\\n \\n\\n \\n\\n \\n\\n \\n\\n \\n\\n \\n\\n \\n\\n \\n\\n \\n\\n \\n\\n \\n\\n \\n \\n\\n \\n \\n\\n \\n\\n   \\n\\n \\n\\nFea, JUN | Ponuoee: foun\\nIPED UP TO DEFLECT A L. Oo [ epa. .\\n[baEIS LOOSE Ge LURES GRE USy Teawaliciooen ae meas Ke | RAT CONE AM MEATEP A\\na SE9GINA a . ° a ee\\nfe n Be # Tapa TV URIATIO DTS\\nis . \\' BB oye Se wp vee SH\\nBao dedtt ee ease, aE \"WC recernie traces cease |\\nsa Jt ete ee AE wee eens aena TEES\\nVor 13.2 _ oS. 292402 28 RT iA.\\na |\\n3 14\\n4 aa al es ee\\n5\\ngpronenean SE, ee\\n[ax ccatras Tht. z ai DS TENTS RECARO ie fra Feu LTS aan m8 Ta fdaemict un\\nnee joie pseis 3954598 Mes ble 35.00\\n\" tt BEE CLC) LOMA Ry Fav Bpratcrtcat ;\\nSceUE HAHN MERCY CLINIC HADIGLOGY RS MERCY ELINEC SPRINGFIELO COMM\\nsight tesa SCERIC VIEW CT 0 BOX 778984\\n\\nRYAN 8 DAVLES 00 NIRA_NO 65714-7609\\noan O1 15 20z4 7 1053 35uN5a)\\nNocCinevetes at Neva sesite at eee SLY\\n\\n \\n\\n \\n\\ncnreaca It 698776884\\nP1953 350058 W249 7Z2090TIX\\n\\n \\n\\noO PL oR\\n\\x0c'}"
            ]
          },
          "metadata": {},
          "execution_count": 13
        }
      ]
    },
    {
      "cell_type": "code",
      "source": [
        "import json\n",
        "\n",
        "with open(\"./tesseract_results.json\", \"w\") as fp:\n",
        "  json.dump(tesseract_res, fp)"
      ],
      "metadata": {
        "id": "dF8oF4z6_bfA"
      },
      "execution_count": 14,
      "outputs": []
    },
    {
      "cell_type": "code",
      "source": [],
      "metadata": {
        "id": "6iFQTRpUCoRz"
      },
      "execution_count": null,
      "outputs": []
    }
  ]
}