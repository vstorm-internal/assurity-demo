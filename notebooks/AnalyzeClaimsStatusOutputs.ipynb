{
 "cells": [
  {
   "cell_type": "code",
   "execution_count": 1,
   "metadata": {},
   "outputs": [
    {
     "name": "stdout",
     "output_type": "stream",
     "text": [
      "Requirement already satisfied: pathlib in ./.venv/lib/python3.12/site-packages (1.0.1)\n",
      "\n",
      "\u001b[1m[\u001b[0m\u001b[34;49mnotice\u001b[0m\u001b[1;39;49m]\u001b[0m\u001b[39;49m A new release of pip is available: \u001b[0m\u001b[31;49m24.3.1\u001b[0m\u001b[39;49m -> \u001b[0m\u001b[32;49m25.1.1\u001b[0m\n",
      "\u001b[1m[\u001b[0m\u001b[34;49mnotice\u001b[0m\u001b[1;39;49m]\u001b[0m\u001b[39;49m To update, run: \u001b[0m\u001b[32;49mpip install --upgrade pip\u001b[0m\n",
      "Requirement already satisfied: pandas in ./.venv/lib/python3.12/site-packages (2.2.3)\n",
      "Requirement already satisfied: numpy>=1.26.0 in ./.venv/lib/python3.12/site-packages (from pandas) (2.2.5)\n",
      "Requirement already satisfied: python-dateutil>=2.8.2 in ./.venv/lib/python3.12/site-packages (from pandas) (2.9.0.post0)\n",
      "Requirement already satisfied: pytz>=2020.1 in ./.venv/lib/python3.12/site-packages (from pandas) (2025.1)\n",
      "Requirement already satisfied: tzdata>=2022.7 in ./.venv/lib/python3.12/site-packages (from pandas) (2025.1)\n",
      "Requirement already satisfied: six>=1.5 in ./.venv/lib/python3.12/site-packages (from python-dateutil>=2.8.2->pandas) (1.17.0)\n",
      "\n",
      "\u001b[1m[\u001b[0m\u001b[34;49mnotice\u001b[0m\u001b[1;39;49m]\u001b[0m\u001b[39;49m A new release of pip is available: \u001b[0m\u001b[31;49m24.3.1\u001b[0m\u001b[39;49m -> \u001b[0m\u001b[32;49m25.1.1\u001b[0m\n",
      "\u001b[1m[\u001b[0m\u001b[34;49mnotice\u001b[0m\u001b[1;39;49m]\u001b[0m\u001b[39;49m To update, run: \u001b[0m\u001b[32;49mpip install --upgrade pip\u001b[0m\n"
     ]
    }
   ],
   "source": [
    "!pip install pathlib\n",
    "!pip install pandas\n"
   ]
  },
  {
   "cell_type": "code",
   "execution_count": 2,
   "metadata": {},
   "outputs": [
    {
     "name": "stdout",
     "output_type": "stream",
     "text": [
      "Found 182 paid claims\n",
      "Found 143 denied claims\n"
     ]
    }
   ],
   "source": [
    "import json\n",
    "from pandas import DataFrame\n",
    "import pandas as pd\n",
    "from pathlib import Path\n",
    "\n",
    "def get_claims_data_from_folder(folder:Path,decision:str,negative_decision:str, max_number_to_process:int=float('inf'))-> list[dict]:\n",
    "    ret_val=[]\n",
    "    #We iterate over all the sub-folders in the folder and collect all of the files named ClaimHistory.json\n",
    "    number_processed = 0\n",
    "    for sub_folder in folder.iterdir():\n",
    "        if (sub_folder.is_dir()):\n",
    "            for file in sub_folder.iterdir():\n",
    "                if file.name == \"ClaimHistory.json\":\n",
    "                    with open(file, \"r\") as f:\n",
    "                        claim_history = json.load(f)\n",
    "                    #print (f\"Found ClaimHistory.json for {sub_folder}\")\n",
    "                    #go through each claim in the claim history json and store the policy number, claim number, and status\n",
    "                    for claim in claim_history:\n",
    "                        policy_number = claim[\"policyNumber\"]\n",
    "                        claim_number = claim[\"id\"]\n",
    "                        status = claim[\"status\"]\n",
    "                        status_reason = claim[\"statusReason\"]\n",
    "                        #we then use the claim_number and see if there is a sub-folder within sub_folder named after the claim_number, if it does exist, we add the claim_number to the paid_claims list\n",
    "                        if (sub_folder / str(claim_number)).exists():\n",
    "                            ret_val.append({\"policy_number\": policy_number, \"claim_number\": claim_number, \"status\": status, \"status_reason\": status_reason, \"in_data_set\": True, \"decision\": decision})\n",
    "                        else:\n",
    "                            ret_val.append({\"policy_number\": policy_number, \"claim_number\": claim_number, \"status\": status, \"status_reason\": status_reason, \"in_data_set\": False, \"decision\": negative_decision})\n",
    "                    number_processed += 1\n",
    "                    if number_processed >= max_number_to_process:\n",
    "                        print(f\"Reached max number of claims to process: {max_number_to_process}\")\n",
    "                        break\n",
    "    return ret_val\n",
    "\n",
    "paid_folder = Path(\"/home/bobby/Blue Label Labs Dropbox/Bobby Gill/BL364 - Assurity/Client Data Dump - 04022025/INDIVIDUAL/PAID\")\n",
    "\n",
    "denied_folder = Path(\"/home/bobby/Blue Label Labs Dropbox/Bobby Gill/BL364 - Assurity/Client Data Dump - 04022025/INDIVIDUAL/DENIED\")\n",
    "output_file = Path(\"./res/outputs/ground_truth_claims_decisions/policy_claims_decisions.csv\")\n",
    "\n",
    "max_number_to_process = 10\n",
    "\n",
    "paid_claims = get_claims_data_from_folder(paid_folder, \"PAID\", \"DENIED\")\n",
    "print(f\"Found {len(paid_claims)} paid claims\")\n",
    "unpaid_claims = get_claims_data_from_folder(denied_folder, \"DENIED\", \"PAID\")\n",
    "print(f\"Found {len(unpaid_claims)} denied claims\")\n",
    "\n",
    "claims_data = paid_claims + unpaid_claims\n",
    "\n",
    "#convert to pandas dataframe\n",
    "claims_data_df = pd.DataFrame(claims_data)\n",
    "\n",
    "#output the paid claims to a csv file\n",
    "claims_data_df.to_csv(output_file, index=False, header=True)\n",
    "\n"
   ]
  }
 ],
 "metadata": {
  "kernelspec": {
   "display_name": "Python 3 (ipykernel)",
   "language": "python",
   "name": "python3"
  },
  "language_info": {
   "codemirror_mode": {
    "name": "ipython",
    "version": 3
   },
   "file_extension": ".py",
   "mimetype": "text/x-python",
   "name": "python",
   "nbconvert_exporter": "python",
   "pygments_lexer": "ipython3",
   "version": "3.12.9"
  }
 },
 "nbformat": 4,
 "nbformat_minor": 2
}
